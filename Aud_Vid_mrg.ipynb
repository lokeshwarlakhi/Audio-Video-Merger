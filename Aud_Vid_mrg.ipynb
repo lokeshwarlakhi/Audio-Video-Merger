{
 "cells": [
  {
   "cell_type": "code",
   "execution_count": 13,
   "metadata": {},
   "outputs": [],
   "source": [
    "from moviepy.editor import *"
   ]
  },
  {
   "cell_type": "code",
   "execution_count": 17,
   "metadata": {},
   "outputs": [],
   "source": [
    "def combine_audio_video(audiofile, videofile, output_file_name_with_extension):\n",
    "    download_path = os.getcwd()\n",
    "    videoclip = VideoFileClip(videofile)\n",
    "    audioclip = AudioFileClip(audiofile)\n",
    "    video = videoclip.set_audio(audioclip)\n",
    "    if not os.path.exists(f'{download_path}/output'):\n",
    "        os.makedirs(f'{download_path}/output')        \n",
    "    video.write_videofile(f'{download_path}/output/{output_file_name_with_extension}')\n",
    "    video.close()\n",
    "    while True: ### check if audio and video files are closed to delete them\n",
    "        try:\n",
    "            os.remove(f'{download_path}/{audiofile}')\n",
    "            os.remove(f'{download_path}/{videofile}')\n",
    "            break                             \n",
    "        except IOError:\n",
    "            break"
   ]
  },
  {
   "cell_type": "code",
   "execution_count": 18,
   "metadata": {},
   "outputs": [
    {
     "name": "stdout",
     "output_type": "stream",
     "text": [
      "Moviepy - Building video c:\\Users\\User\\Desktop\\socialok\\Audio-Video-Merger webapp/output/test - Copy.mp4.\n",
      "MoviePy - Writing audio in test - CopyTEMP_MPY_wvf_snd.mp3\n"
     ]
    },
    {
     "name": "stderr",
     "output_type": "stream",
     "text": [
      "                                                                      \r"
     ]
    },
    {
     "name": "stdout",
     "output_type": "stream",
     "text": [
      "MoviePy - Done.\n",
      "Moviepy - Writing video c:\\Users\\User\\Desktop\\socialok\\Audio-Video-Merger webapp/output/test - Copy.mp4\n",
      "\n"
     ]
    },
    {
     "name": "stderr",
     "output_type": "stream",
     "text": [
      "                                                               \r"
     ]
    },
    {
     "name": "stdout",
     "output_type": "stream",
     "text": [
      "Moviepy - Done !\n",
      "Moviepy - video ready c:\\Users\\User\\Desktop\\socialok\\Audio-Video-Merger webapp/output/test - Copy.mp4\n",
      "Moviepy - Building video c:\\Users\\User\\Desktop\\socialok\\Audio-Video-Merger webapp/output/test.mp4.\n",
      "MoviePy - Writing audio in testTEMP_MPY_wvf_snd.mp3\n"
     ]
    },
    {
     "name": "stderr",
     "output_type": "stream",
     "text": [
      "                                                                      \r"
     ]
    },
    {
     "name": "stdout",
     "output_type": "stream",
     "text": [
      "MoviePy - Done.\n",
      "Moviepy - Writing video c:\\Users\\User\\Desktop\\socialok\\Audio-Video-Merger webapp/output/test.mp4\n",
      "\n"
     ]
    },
    {
     "name": "stderr",
     "output_type": "stream",
     "text": [
      "                                                               \r"
     ]
    },
    {
     "name": "stdout",
     "output_type": "stream",
     "text": [
      "Moviepy - Done !\n",
      "Moviepy - video ready c:\\Users\\User\\Desktop\\socialok\\Audio-Video-Merger webapp/output/test.mp4\n"
     ]
    }
   ],
   "source": [
    "dir = os.getcwd()\n",
    "audio_dir = os.listdir(f'{dir}/audio')\n",
    "video_dir = os.listdir(f'{dir}/video')\n",
    "\n",
    "audio_dir[0],video_dir[0]\n",
    "j=0\n",
    "for i in audio_dir:\n",
    "    combine_audio_video(f'{dir}/audio/{i}',f'{dir}/video/{video_dir[j]}',video_dir[j])\n",
    "    j+=1"
   ]
  },
  {
   "cell_type": "code",
   "execution_count": null,
   "metadata": {},
   "outputs": [],
   "source": []
  }
 ],
 "metadata": {
  "kernelspec": {
   "display_name": "Python 3 (ipykernel)",
   "language": "python",
   "name": "python3"
  },
  "language_info": {
   "codemirror_mode": {
    "name": "ipython",
    "version": 3
   },
   "file_extension": ".py",
   "mimetype": "text/x-python",
   "name": "python",
   "nbconvert_exporter": "python",
   "pygments_lexer": "ipython3",
   "version": "3.10.6"
  },
  "vscode": {
   "interpreter": {
    "hash": "e70560da4fd1883b821a41052c072f8cec27e22f53bd57d0da1a25a8459e7103"
   }
  }
 },
 "nbformat": 4,
 "nbformat_minor": 2
}
